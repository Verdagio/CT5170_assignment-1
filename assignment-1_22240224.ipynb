{
 "cells": [
  {
   "cell_type": "markdown",
   "id": "9045b48e",
   "metadata": {},
   "source": [
    "# CT5170 - Principles of Machine Learning\n",
    "### Assignment 1\n",
    "##### Daniel Verdejo - 22240224\n",
    "___"
   ]
  },
  {
   "cell_type": "markdown",
   "id": "825891f9",
   "metadata": {},
   "source": [
    "1: _Have a look at the given data, understand the problem based on the dependent variable and select a machine learning category that can solve the task/problem.  Briefly explain why do you think it is the correct ML category for this problem?_"
   ]
  },
  {
   "cell_type": "markdown",
   "id": "1e85a7f8",
   "metadata": {},
   "source": [
    "Answer:\n",
    "\n",
    "The data provided is a subset of the Iris dataset which typically includes 3 species. We have both a training and test dataset for our neural network to consume. \n",
    "\n",
    "To solve the problem we will use a supervised learning classification task as we are provided 80 samples in total in a training dataset. \n",
    "\n",
    "Classification will enable us to organise our data in categorical sense based off predictions made about each sample the model is given. \n",
    "\n",
    "We first train the model with a dataset of known data, consisting of 2 classes with 40 samples per class (as seen below), each sample containing 4 attributes and the target label. The attributes are the sepal width and length (in cm), and the petal width and length (in cm). \n",
    "\n",
    "Once trained we will then need to feed it new data (data it has not yet seen) to measure its performance.\n",
    "___"
   ]
  },
  {
   "cell_type": "markdown",
   "id": "097ee049",
   "metadata": {},
   "source": [
    "Lets begin..."
   ]
  },
  {
   "cell_type": "code",
   "execution_count": 107,
   "id": "11e02667",
   "metadata": {},
   "outputs": [],
   "source": [
    "import csv\n",
    "import numpy as np\n",
    "import keras as kr\n",
    "import seaborn as sb\n",
    "import pandas as pd\n",
    "\n",
    "\n",
    "training_samples = list(csv.reader(open(\"./plant-data/plant-train.csv\")))[1:]\n",
    "names = list(csv.reader(open(\"./plant-data/plant-train.csv\")))[:1]\n",
    "testing_samples = list(csv.reader(open(\"./plant-data/plant-test.csv\")))[1:]\n",
    "\n",
    "\n",
    "\n",
    "training_attributes = np.array(training_samples)[:,0:4].astype(np.float32)\n",
    "training_classes = np.array(training_samples)[:,4]\n",
    "uniq_training_classes, output_indices, training_counts = np.unique(training_classes, return_counts=True, return_inverse=True)\n",
    "outputs_categories = kr.utils.to_categorical(output_indices).astype(np.float32)\n",
    "\n",
    "testing_attributes = np.array(testing_samples)[:,:4].astype(np.float32)\n",
    "testing_classes = np.array(testing_samples)[:,4]\n",
    "uniq_test_classes, output_test_ind, test_counts = np.unique(testing_classes, return_counts=True, return_inverse=True)\n",
    "output_test_categories = kr.utils.to_categorical(output_test_ind).astype(np.float32)\n",
    "\n",
    "training_df = pd.read_csv(\"./plant-data/plant-train.csv\")\n",
    "\n",
    "sb.set_palette(\"husl\")\n",
    "sb.pairplot(training_df, hue=\"target/label\")\n",
    "\n",
    "test_df = pd.read_csv(\"./plant-data/plant-test.csv\")\n",
    "sb.pairplot(test_df, hue=\"target/label\")\n"
   ]
  },
  {
   "cell_type": "markdown",
   "id": "8eabe9a9",
   "metadata": {},
   "source": [
    "2: _Explore and report the data and its distribution among training and testing data. Can we call it imbalanced dataset, explain your answer (yes/no) briefly?_"
   ]
  },
  {
   "cell_type": "markdown",
   "id": "28b41bc4",
   "metadata": {},
   "source": [
    "Answer:\n",
    "\n",
    "No, we cannot say the provided dataset is imbalanced. As we can see above, both the training and testing datasets show a 50:50 ratio for each class. The dataset is perfectly balanced with no specific class showing a majority or minority in either the training or testing datasets. Also, we can see good distribution and clear deliniation between the 2 classes on both datasets.\n",
    "___"
   ]
  },
  {
   "cell_type": "markdown",
   "id": "e5da31b8",
   "metadata": {},
   "source": [
    "3: _Research and write down about open-source machine learning package that are freely available, and select one that you think will be good and easy for this task. Your report should include a short overview of the main features of the package you have chosen._ "
   ]
  },
  {
   "cell_type": "markdown",
   "id": "9b92b3fa",
   "metadata": {},
   "source": [
    "Answer:\n",
    "\n",
    "Some of the most popular machine learing libraries for python are as follows:\n",
    "\n",
    "**TensorFlow** - Developed by Google, written in Python and C++, it offers a free and open-source library used for artificial intelligence and machine learning applications. The library offers both a high-level and low-level API to users to enable creating machine leanring models which can be run on many different host devices including, cloud, desktop, mobile or even on edge devices. It offers tools to validate and transform large datasets, and tools to discover and remove bias in data to improve outcomes on models. Tensoflow offers in depth API documentation and learning materials for users of all experience levels.\n",
    "\n",
    "**Keras** - Is a machine learning API written purely in Python, which runs on top of the TensorFlow platform. It offers an easy to use high-level API which abstracts some of the more complex functionality of TensorFlow. Keras offers a quick and easy way to get up and running for smaller projects.\n",
    "\n",
    "It was built with simplicity in mind to promote fast prototyping via user friendliness, modularity and extensibility. Supports convolutional and recurrent networks, and can utilise either the host CPU or GPU for computational work.\n",
    "\n",
    "\n",
    "**PyTorch** - Developed by the Linux Foundation and Meta AI (a branch of Meta, formerly Facebook) was released in September 2016. The library is written in Python, CUDA and C++, and offers a machine learning framework based on the Torch library. It can be used to develop machine learning applications and also offers capabilities for the creation of REST API endpoint to ease application integration. It only offers low level apis so it can be more difficult to use than Keras.\n",
    "\n",
    "\n",
    "The machine learning library that I will be using here is [Keras](https://keras.io/). Its ease of use makes carrying out tasks like the one we are tackling today quick and easy. \n",
    "\n",
    "Using the Keras library over something like the TensorFlow or PyTorch libraries will reduce the amount of effort on my part to build the neural network, and should also be fairly easy to read and understand for you, the reader. As this dataset is quite small and relatively trivial using one of the other options, while they may operate faster, would add an unnecessary level of complexity as we should not need to dig into the lower level apis, or spend a lot of time debugging our neural network."
   ]
  },
  {
   "cell_type": "markdown",
   "id": "dfbd8609",
   "metadata": {},
   "source": [
    "4: _In order to use the dataset (Plant-dataset) supplied below, you might need to do some work to prepare it for input into the ML package, depending on the ML category requirements. Document any data preparation (e.g. normalisation) steps in your report._\n",
    "\n"
   ]
  },
  {
   "cell_type": "markdown",
   "id": "5bfd809e",
   "metadata": {},
   "source": [
    "Some preparation of the dataset is required, we first got our attributes above like so: `attributes = np.array(training_samples)[:,:4].astype(np.float)` these our inputs.\n",
    "\n",
    "Next we got our classes: `training_classes = np.array(training_samples)[:,4]` these will be our outputs.\n",
    "\n",
    "Above we used `uniq_training_classes, inverse, training_counts = np.unique(training_classes, return_counts=True, return_inverse=True)` for  the training dataset to view how the data is distributed among the 2 class in both datasets. We also got the indicies of the unique array. This consists of 0 and 1s which points us to the index for each output. As we can see below.\n",
    "\n",
    "\n"
   ]
  },
  {
   "cell_type": "code",
   "execution_count": null,
   "id": "5b5cad9f",
   "metadata": {},
   "outputs": [
    {
     "name": "stdout",
     "output_type": "stream",
     "text": [
      "[0 0 0 0 0 0 0 0 0 0 0 0 0 0 0 0 0 0 0 0 0 0 0 0 0 0 0 0 0 0 0 0 0 0 0 0 0\n",
      " 0 0 0 1 1 1 1 1 1 1 1 1 1 1 1 1 1 1 1 1 1 1 1 1 1 1 1 1 1 1 1 1 1 1 1 1 1\n",
      " 1 1 1 1 1 1]\n"
     ]
    }
   ],
   "source": [
    "print(output_indices)"
   ]
  },
  {
   "cell_type": "markdown",
   "id": "8b834d49",
   "metadata": {},
   "source": [
    "5: _From the ML package, select two different algorithms from the category you selected and apply to the dataset. In your report, include a clear description of both algorithms. Ensure that you acknowledge all of your sources of information.\n",
    "Report the results with and without normalisation of the data._"
   ]
  },
  {
   "cell_type": "markdown",
   "id": "61bd9917",
   "metadata": {},
   "source": [
    "For our neural network we will use the Sigmoid and Relu activation functions both with softmax as an output layer.\n",
    "\n",
    "**1 - The Sigmoid Activation function**\n",
    "\n",
    "Formula:\n",
    "\n",
    "$ f(x) = 1 / 1+e^{-x} $\n",
    "\n",
    "The sigmoid function itself exists between 0 and 1 and takes an S shape curve. Since we are attempting to predict between 0 and 1 as we have just seen above from our `output_indices` list, the sigmoid activation function is the best fit here.\n",
    "\n",
    "This function is used in logistic regression to classify data. It takes a numeric input value and maps it to a probability between 0 and 1 like so: If the value is above 0.5 its 1, otherwise if its below 0.5 it 0 (rounding up or down to the nearest whole number). \n",
    "\n",
    "[Reference: O'Reilly - Introduction to Machine Learning with R: Scott V. Berger, Chapter 2: Supervised and Unsupervised Machine Learning - Neural Networks, Pages 35-36.](https://www.oreilly.com/library/view/introduction-to-machine/9781491976432/)\n",
    "\n",
    "[Reference: O'Reilly - Introduction to Machine Learning with R: Scott V. Berger, Chapter 4: Regression in a Nutshell - The Sigmoid Function, Page 94.](https://www.oreilly.com/library/view/introduction-to-machine/9781491976432/)\n",
    "\n",
    "We can plot out the Sigmoid activation funtion using matplotlib and the equation: \n"
   ]
  },
  {
   "cell_type": "code",
   "execution_count": null,
   "id": "5d29cfb8",
   "metadata": {},
   "outputs": [
    {
     "data": {
      "text/plain": [
       "<matplotlib.legend.Legend at 0x1e8b24d6130>"
      ]
     },
     "execution_count": 105,
     "metadata": {},
     "output_type": "execute_result"
    },
    {
     "data": {
      "image/png": "[encoded data removed]",
      "text/plain": [
       "<Figure size 640x480 with 1 Axes>"
      ]
     },
     "metadata": {},
     "output_type": "display_data"
    }
   ],
   "source": [
    "from matplotlib.pyplot import plot, show, legend\n",
    "from math import exp\n",
    "        \n",
    "xAxis = np.arange(-10., 10., .1)\n",
    "sigmoid = [ 1/(1+exp(-item)) for item in xAxis]\n",
    "\n",
    "plot(xAxis, sigmoid)\n",
    "legend([\"Sigmoid\"])\n",
    "show()"
   ]
  },
  {
   "cell_type": "markdown",
   "id": "985cb081",
   "metadata": {},
   "source": [
    "**2- Rectified Linear (ReLU) activation function**\n",
    "\n",
    "Formula:\n",
    "\n",
    "$ f(x) = max(0,x) $\n",
    "\n",
    "With the ReLU activation function, it will return 0 for inputs below 0, its relationship with the input is linear beyond a certain threshold, if it is above this threshold it directly returns the input. As a result of the gradient being 0 or a constant, controlling the vanishing exploding gradient issue is possible.\n",
    "\n"
   ]
  },
  {
   "cell_type": "code",
   "execution_count": null,
   "id": "a8d7cbdd",
   "metadata": {},
   "outputs": [
    {
     "data": {
      "image/png": "[encoded data removed]",
      "text/plain": [
       "<Figure size 640x480 with 1 Axes>"
      ]
     },
     "metadata": {},
     "output_type": "display_data"
    }
   ],
   "source": [
    "x = np.linspace(-10,10,1000)\n",
    "plot(x, np.maximum(0, x))\n",
    "legend([\"ReLU\"])\n",
    "show()"
   ]
  },
  {
   "cell_type": "markdown",
   "id": "ce9520b2",
   "metadata": {},
   "source": [
    "\n",
    "We will also be using the following activation function on our output layer\n",
    "**Softmax output layer**\n",
    "\n",
    "Formula:\n",
    "$ f(x)_i = e^{x_i} / \\sum^k _{j=1}   e^{x_j} $\n",
    "\n",
    "We want our output to be a probability distribution over a collection of classes. In this example we have 2 mutually exclusive classes `Setosa` and `Virginica`. Although it is not likely that the neural network will be able to predict the output with 100% accuracy, when we use a probability distribution we have a better idea of how accurate our predictions are. The output of a node in a softmax layer is dependant on all of the other nodes outputs in its layer as we require the sum of all outputs.\n",
    "\n",
    "[Reference: O'Reilly - Fundamentals of Deep Learning: Nikhil Buduma, Chapter 1: The Neural Network - Softmax Output Layer, Page 15.](https://www.oreilly.com/library/view/fundamentals-of-deep/9781492082170/)\n"
   ]
  },
  {
   "cell_type": "markdown",
   "id": "15ebffeb",
   "metadata": {},
   "source": [
    "6: _Train and test your chosen algorithms using the training set provided in plant-train.csv. You should then test your trained models using the test set provided in plant-test.csv. Report on the results with appropriate performance metric e.g. accuracy that you consider best for each model on the training set and on the test set. Also include details of the classification models constructed – these may include graphics if appropriate._"
   ]
  },
  {
   "cell_type": "markdown",
   "id": "b369b0b6",
   "metadata": {},
   "source": [
    "We're going to create a neural network which will take 4 inputs (our 4 attributes: sepal width, sepal length, petal width, petal length). Then pass it through each layer, these layers contain nodes which are computational points. We add an activation function to each layer (sigmoid or ReLU in this case) to be able to make these calculations. Finally they will be passed to the output layer in this case as a 0 (setosa) or 1 (virginica). \n",
    "\n",
    "Our neural network will resemble something like so:\n",
    "\n",
    "![neural net](assets/Neural_net.drawio.svg)\n",
    "\n",
    "We will compile the the data using the Adam optimizer, and binary cross entropy, for binary-class classification where each sample belongs to a single class."
   ]
  },
  {
   "cell_type": "code",
   "execution_count": null,
   "id": "83a15871",
   "metadata": {},
   "outputs": [
    {
     "name": "stdout",
     "output_type": "stream",
     "text": [
      "Model: \"sequential_16\"\n",
      "_________________________________________________________________\n",
      " Layer (type)                Output Shape              Param #   \n",
      "=================================================================\n",
      " dense_32 (Dense)            (None, 16)                80        \n",
      "                                                                 \n",
      " dense_33 (Dense)            (None, 2)                 34        \n",
      "                                                                 \n",
      "=================================================================\n",
      "Total params: 114\n",
      "Trainable params: 114\n",
      "Non-trainable params: 0\n",
      "_________________________________________________________________\n",
      "Model: \"sequential_17\"\n",
      "_________________________________________________________________\n",
      " Layer (type)                Output Shape              Param #   \n",
      "=================================================================\n",
      " dense_34 (Dense)            (None, 16)                80        \n",
      "                                                                 \n",
      " dense_35 (Dense)            (None, 2)                 34        \n",
      "                                                                 \n",
      "=================================================================\n",
      "Total params: 114\n",
      "Trainable params: 114\n",
      "Non-trainable params: 0\n",
      "_________________________________________________________________\n"
     ]
    }
   ],
   "source": [
    "# We can Create a sequential model passing no args to the constructor\n",
    "model_a = kr.models.Sequential()\n",
    "\n",
    "# And add our initial layer after the fact, with an input for each of our attributes (4), and a hidden layer with 16 nodes\n",
    "model_a.add(kr.layers.Dense(16, input_shape=(4,), activation=\"sigmoid\")) # We're using the sigmoid activation fn on this layer\n",
    "\n",
    "# And build our model layer by layer\n",
    "model_a.add(kr.layers.Dense(2, activation=\"softmax\"))\n",
    "\n",
    "# Alternatively we can add all the layer information into the constructor and be done with it.\n",
    "model_b  = kr.models.Sequential(layers=[\n",
    "      kr.layers.Dense(16, input_shape=(4,), activation=\"sigmoid\"),\n",
    "      kr.layers.Dense(2, activation=\"softmax\")\n",
    "])\n",
    "\n",
    "# configure the models for training\n",
    "# use the adam optimizer and binary cross entropy as the loss function our metric is accuracy\n",
    "model_a.compile(kr.optimizers.Adam(learning_rate=0.05), loss=\"binary_crossentropy\", metrics=[\"accuracy\"])\n",
    "model_a.summary()\n",
    "\n",
    "model_b.compile(kr.optimizers.Adam(learning_rate=0.05), loss=\"binary_crossentropy\", metrics=[\"accuracy\"])\n",
    "model_b.summary()"
   ]
  },
  {
   "cell_type": "markdown",
   "id": "040e3b41",
   "metadata": {},
   "source": [
    "We use an optimizer with the aim to maximize the performance of our model by making iterative adjustments to its parameters to minimize error. This means we will avoid having to use a gradient descent strategy to minimize error.\n",
    "\n",
    "With gradient descent we would evaluate the gradient at a given starting position, find and travel in the direction of the steepest descent, from this new position we would repeat this process, continuing until we get to a point of minimum error. \n",
    "\n",
    "Thankfully, we do not have to worry about this when we use the Adam optimizer. Adam is an optimization algorithm that can be used instead of the classical stochastic gradient descent procedure in order to update network weights based on training data. \n",
    "The Adam algorithm calculates the exponentially weighted moving average of the gradient, and it estimates a vector in of the first moment of the gradient. In the second moments of the gradient another vector is estimated and the moving average of the historical gradients. The estimation of the vectors initial values to zero result in a bias relative to the real moments, thus a correction factor for both vector estimations is derived. This is Adam's corrective measure against the zero initialization bias.\n",
    "\n",
    "[Reference: O'Reilly - Fundamentals of Deep Learning: SNikhil Buduma, Chapter 2: Training Feed-Forward Neural Networks - Gradient Descent, Pages 19 - 20.](https://www.oreilly.com/library/view/fundamentals-of-deep/9781492082170/)\n",
    "\n",
    "[Reference: O'Reilly - Fundamentals of Deep Learning: SNikhil Buduma, Chapter 4: Beyond Gradient Descent - Adam-Combining momentum and RMSProp, Page 81.](https://www.oreilly.com/library/view/fundamentals-of-deep/9781492082170/)\n"
   ]
  },
  {
   "cell_type": "code",
   "execution_count": null,
   "id": "ec733a5b",
   "metadata": {},
   "outputs": [
    {
     "name": "stdout",
     "output_type": "stream",
     "text": [
      "1/1 [==============================] - 0s 102ms/step - loss: 3.5825e-05 - accuracy: 1.0000\n",
      "Model using the Sigmoid activation function:\n",
      "\n",
      "loss: 0.0000\n",
      "Accuracy: 1.0000\n"
     ]
    }
   ],
   "source": [
    "#fit the model using our training data\n",
    "model_a.fit(training_attributes, outputs_categories, epochs=50, batch_size=1, verbose=0)\n",
    "\n",
    "#evaluate the model using the test data set\n",
    "loss, accuracy = model_a.evaluate(testing_attributes, output_test_categories, verbose=1)\n",
    "\n",
    "print(\"Model using the Sigmoid activation function:\\n\\nloss: %6.4f\\nAccuracy: %6.4f\"% (loss, accuracy))"
   ]
  },
  {
   "cell_type": "code",
   "execution_count": null,
   "id": "7c769cb7",
   "metadata": {},
   "outputs": [
    {
     "name": "stdout",
     "output_type": "stream",
     "text": [
      "1/1 [==============================] - 0s 92ms/step - loss: 1.9658e-05 - accuracy: 1.0000\n",
      "Model using the ReLU activation function:\n",
      "\n",
      "loss: 0.0000\n",
      "Accuracy: 1.0000\n"
     ]
    }
   ],
   "source": [
    "#fit the model using our training data\n",
    "model_b.fit(training_attributes, outputs_categories, epochs=50, batch_size=1, verbose=0)\n",
    "\n",
    "#evaluate the model using the test data set\n",
    "loss, accuracy = model_b.evaluate(testing_attributes, output_test_categories, verbose=1)\n",
    "\n",
    "print(\"Model using the ReLU activation function:\\n\\nloss: %6.4f\\nAccuracy: %6.4f\"% (loss, accuracy))"
   ]
  },
  {
   "cell_type": "code",
   "execution_count": null,
   "id": "d6541530",
   "metadata": {},
   "outputs": [
    {
     "name": "stdout",
     "output_type": "stream",
     "text": [
      "1/1 [==============================] - 0s 37ms/step\n",
      "1/1 [==============================] - 0s 47ms/step\n",
      "[0 0 0 0 0 0 0 0 0 0 1 1 1 1 1 1 1 1 1 1]\n",
      "[0 0 0 0 0 0 0 0 0 0 1 1 1 1 1 1 1 1 1 1]\n",
      "[0 0 0 0 0 0 0 0 0 0 1 1 1 1 1 1 1 1 1 1]\n"
     ]
    }
   ],
   "source": [
    "a_pred = model_a.predict(testing_attributes)\n",
    "b_pred = model_b.predict(testing_attributes)\n",
    "\n",
    "a = np.argmax(a_pred, axis=1)\n",
    "b = np.argmax(b_pred, axis=1)\n",
    "l = np.argmax(output_test_categories,axis=1)\n",
    "\n",
    "print(a)\n",
    "print(b)\n",
    "print(l)\n",
    "\n",
    "    # print(\"That means it's a %s\" % uniq_test_classes[prediction.astype(np.bool)][0])\n",
    "\n"
   ]
  },
  {
   "cell_type": "markdown",
   "id": "d850a536",
   "metadata": {},
   "source": [
    "As we can see above the predictions are spot on, but lets normalize the data and re-run the training and tests, to see what the difference is when we do this."
   ]
  },
  {
   "cell_type": "code",
   "execution_count": null,
   "id": "1e44cbaa",
   "metadata": {},
   "outputs": [
    {
     "name": "stdout",
     "output_type": "stream",
     "text": [
      "1/1 [==============================] - 0s 19ms/step - loss: 4.8561e-05 - accuracy: 1.0000\n",
      "Model using the Sigmoid activation function with normalized data:\n",
      "\n",
      "loss: 0.0000\n",
      "Accuracy: 1.0000\n"
     ]
    }
   ],
   "source": [
    "from sklearn import preprocessing\n",
    "\n",
    "norm_train = preprocessing.normalize(training_attributes)\n",
    "norm_test = preprocessing.normalize(testing_attributes)\n",
    "\n",
    "model_a.fit(norm_train, outputs_categories, epochs=50, batch_size=1, verbose=0)\n",
    "\n",
    "loss, accuracy = model_a.evaluate(norm_test, output_test_categories, verbose=1)\n",
    "\n",
    "print(\"Model using the Sigmoid activation function with normalized data:\\n\\nloss: %6.4f\\nAccuracy: %6.4f\"% (loss, accuracy))"
   ]
  },
  {
   "cell_type": "code",
   "execution_count": null,
   "id": "b757f263",
   "metadata": {},
   "outputs": [
    {
     "name": "stdout",
     "output_type": "stream",
     "text": [
      "1/1 [==============================] - 0s 19ms/step - loss: 1.8332e-05 - accuracy: 1.0000\n",
      "Model using the ReLU activation function with normalized data:\n",
      "\n",
      "loss: 0.0000\n",
      "Accuracy: 1.0000\n"
     ]
    }
   ],
   "source": [
    "\n",
    "model_b.fit(norm_train, outputs_categories, epochs=50, batch_size=1, verbose=0)\n",
    "loss, accuracy = model_b.evaluate(norm_test, output_test_categories, verbose=1)\n",
    "\n",
    "print(\"Model using the ReLU activation function with normalized data:\\n\\nloss: %6.4f\\nAccuracy: %6.4f\"% (loss, accuracy))"
   ]
  },
  {
   "cell_type": "code",
   "execution_count": null,
   "id": "bc1faf60",
   "metadata": {},
   "outputs": [
    {
     "name": "stdout",
     "output_type": "stream",
     "text": [
      "1/1 [==============================] - 0s 17ms/step\n",
      "1/1 [==============================] - 0s 16ms/step\n",
      "[0 0 0 0 0 0 0 0 0 0 1 1 1 1 1 1 1 1 1 1]\n",
      "[0 0 0 0 0 0 0 0 0 0 1 1 1 1 1 1 1 1 1 1]\n",
      "[0 0 0 0 0 0 0 0 0 0 1 1 1 1 1 1 1 1 1 1]\n"
     ]
    }
   ],
   "source": [
    "a_pred_norm = model_a.predict(norm_test)\n",
    "b_pred_norm = model_b.predict(norm_test)\n",
    "\n",
    "a = np.argmax(a_pred, axis=1)\n",
    "b = np.argmax(b_pred, axis=1)\n",
    "\n",
    "print(a)\n",
    "print(b)\n",
    "print(l)"
   ]
  },
  {
   "cell_type": "markdown",
   "id": "a967fd72",
   "metadata": {},
   "source": [
    "\n",
    "7: _Discuss in your report whether the two models give very similar or significantly different results, and why._"
   ]
  },
  {
   "cell_type": "markdown",
   "id": "83fb25cc",
   "metadata": {},
   "source": [
    "The result of the 2 models is near identical with the only real differences visible being  the loss, when it is not normalized. But what benefit did we see when we normalized the data? The main benefit to this is the speed. \n",
    "\n",
    "Example: The `model_a` with non normalized data took 102ms / step vs 19ms / step. There is a clear performance uplift between the 2 results. But why?\n",
    "\n",
    "The point of data normalization is to get an uplift in performance and stability on our model by transforming the data to be more uniform.\n",
    "\n",
    "Findings:\n",
    "\n",
    "**Non-normalized data:**\n",
    "\n",
    "The `model_a` (sigmoid activation fn) has lower loss than `model_b` (ReLU)\n",
    "\n",
    "**Normalized data:**\n",
    "\n",
    "Both models were significantly faster than their non-normalized variant. Interestingly enough, `model_a` had a significant increase in loss over the non-normalized run. "
   ]
  }
 ],
 "metadata": {
  "kernelspec": {
   "display_name": "Python 3.8.13 ('tensorflow')",
   "language": "python",
   "name": "python3"
  },
  "language_info": {
   "codemirror_mode": {
    "name": "ipython",
    "version": 3
   },
   "file_extension": ".py",
   "mimetype": "text/x-python",
   "name": "python",
   "nbconvert_exporter": "python",
   "pygments_lexer": "ipython3",
   "version": "3.8.13"
  },
  "vscode": {
   "interpreter": {
    "hash": "5c69e896b73d80df03b10aefe902562c227bdab9e6e1527e46fe261fc763f811"
   }
  }
 },
 "nbformat": 4,
 "nbformat_minor": 5
}
