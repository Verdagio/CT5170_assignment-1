{
 "cells": [
  {
   "cell_type": "markdown",
   "metadata": {},
   "source": [
    "# CT5170 - Principles of Machine Learning\n",
    "### Assignment 1\n",
    "##### Daniel Verdejo - 22240224\n",
    "___"
   ]
  },
  {
   "cell_type": "markdown",
   "metadata": {},
   "source": [
    "1: _Have a look at the given data, understand the problem based on the dependent variable and select a machine learning category that can solve the task/problem.  Briefly explain why do you think it is the correct ML category for this problem?_"
   ]
  },
  {
   "cell_type": "markdown",
   "metadata": {},
   "source": [
    "Answer:\n",
    "\n",
    "The data provided is a subset of the Iris dataset which typically includes 3 species. We have both a training and test dataset for our neural network to consume. \n",
    "\n",
    "To solve the problem we will use a supervised learning classification task as we are provided 80 samples in total in a training dataset. \n",
    "\n",
    "Classification will enable us to organise our data in categorical sense based off predictions made about each sample the model is given. \n",
    "\n",
    "We first train the model with a dataset of known data, consisting of 2 classes with 40 samples per class, each sample containing 4 attributes and the target label. The attributes are the sepal width and length (in cm), and the petal width and length (in cm). \n",
    "\n",
    "Once trained we will then need to feed it new data (data it has not yet seen) to measure its performance.\n",
    "___"
   ]
  },
  {
   "cell_type": "markdown",
   "metadata": {},
   "source": [
    "Lets begin..."
   ]
  },
  {
   "cell_type": "code",
   "execution_count": 2,
   "id": "11e02667",
   "metadata": {},
   "outputs": [
    {
     "name": "stdout",
     "output_type": "stream",
     "text": [
      "[['5.1', '3.5', '1.4', '0.2', 'setosa'], ['4.9', '3', '1.4', '0.2', 'setosa'], ['4.7', '3.2', '1.3', '0.2', 'setosa'], ['4.6', '3.1', '1.5', '0.2', 'setosa'], ['5', '3.6', '1.4', '0.2', 'setosa'], ['5.4', '3.9', '1.7', '0.4', 'setosa'], ['4.6', '3.4', '1.4', '0.3', 'setosa'], ['5', '3.4', '1.5', '0.2', 'setosa'], ['4.4', '2.9', '1.4', '0.2', 'setosa'], ['5.8', '4', '1.2', '0.2', 'setosa'], ['5.7', '4.4', '1.5', '0.4', 'setosa'], ['5.4', '3.9', '1.3', '0.4', 'setosa'], ['5.1', '3.5', '1.4', '0.3', 'setosa'], ['5.7', '3.8', '1.7', '0.3', 'setosa'], ['5.1', '3.8', '1.5', '0.3', 'setosa'], ['5.4', '3.4', '1.7', '0.2', 'setosa'], ['5.1', '3.7', '1.5', '0.4', 'setosa'], ['4.6', '3.6', '1', '0.2', 'setosa'], ['5.1', '3.3', '1.7', '0.5', 'setosa'], ['4.8', '3.4', '1.9', '0.2', 'setosa'], ['5', '3', '1.6', '0.2', 'setosa'], ['5', '3.4', '1.6', '0.4', 'setosa'], ['5.2', '3.5', '1.5', '0.2', 'setosa'], ['5.2', '3.4', '1.4', '0.2', 'setosa'], ['4.7', '3.2', '1.6', '0.2', 'setosa'], ['4.8', '3.1', '1.6', '0.2', 'setosa'], ['5.4', '3.4', '1.5', '0.4', 'setosa'], ['5.2', '4.1', '1.5', '0.1', 'setosa'], ['5.5', '4.2', '1.4', '0.2', 'setosa'], ['4.9', '3.1', '1.5', '0.1', 'setosa'], ['5', '3.2', '1.2', '0.2', 'setosa'], ['5.5', '3.5', '1.3', '0.2', 'setosa'], ['4.9', '3.1', '1.5', '0.1', 'setosa'], ['4.4', '3', '1.3', '0.2', 'setosa'], ['5.1', '3.4', '1.5', '0.2', 'setosa'], ['5', '3.5', '1.3', '0.3', 'setosa'], ['4.5', '2.3', '1.3', '0.3', 'setosa'], ['4.4', '3.2', '1.3', '0.2', 'setosa'], ['5', '3.5', '1.6', '0.6', 'setosa'], ['5.1', '3.8', '1.9', '0.4', 'setosa'], ['6.3', '3.3', '6', '2.5', 'virginica'], ['5.8', '2.7', '5.1', '1.9', 'virginica'], ['7.1', '3', '5.9', '2.1', 'virginica'], ['6.3', '2.9', '5.6', '1.8', 'virginica'], ['6.5', '3', '5.8', '2.2', 'virginica'], ['7.6', '3', '6.6', '2.1', 'virginica'], ['4.9', '2.5', '4.5', '1.7', 'virginica'], ['7.3', '2.9', '6.3', '1.8', 'virginica'], ['6.7', '2.5', '5.8', '1.8', 'virginica'], ['7.2', '3.6', '6.1', '2.5', 'virginica'], ['6.5', '3.2', '5.1', '2', 'virginica'], ['6.4', '2.7', '5.3', '1.9', 'virginica'], ['6.8', '3', '5.5', '2.1', 'virginica'], ['5.7', '2.5', '5', '2', 'virginica'], ['5.8', '2.8', '5.1', '2.4', 'virginica'], ['6.4', '3.2', '5.3', '2.3', 'virginica'], ['6.5', '3', '5.5', '1.8', 'virginica'], ['7.7', '3.8', '6.7', '2.2', 'virginica'], ['7.7', '2.6', '6.9', '2.3', 'virginica'], ['6', '2.2', '5', '1.5', 'virginica'], ['6.9', '3.2', '5.7', '2.3', 'virginica'], ['5.6', '2.8', '4.9', '2', 'virginica'], ['7.7', '2.8', '6.7', '2', 'virginica'], ['6.3', '2.7', '4.9', '1.8', 'virginica'], ['6.7', '3.3', '5.7', '2.1', 'virginica'], ['7.2', '3.2', '6', '1.8', 'virginica'], ['6.2', '2.8', '4.8', '1.8', 'virginica'], ['6.1', '3', '4.9', '1.8', 'virginica'], ['6.4', '2.8', '5.6', '2.1', 'virginica'], ['7.2', '3', '5.8', '1.6', 'virginica'], ['7.4', '2.8', '6.1', '1.9', 'virginica'], ['7.9', '3.8', '6.4', '2', 'virginica'], ['6.4', '2.8', '5.6', '2.2', 'virginica'], ['6.3', '2.8', '5.1', '1.5', 'virginica'], ['6.1', '2.6', '5.6', '1.4', 'virginica'], ['7.7', '3', '6.1', '2.3', 'virginica'], ['6.3', '3.4', '5.6', '2.4', 'virginica'], ['6.4', '3.1', '5.5', '1.8', 'virginica'], ['6', '3', '4.8', '1.8', 'virginica'], ['6.9', '3.1', '5.4', '2.1', 'virginica']]\n"
     ]
    }
   ],
   "source": [
    "import csv\n",
    "import numpy as np\n",
    "import tensorflow as tf\n",
    "\n",
    "training_samples = list(csv.reader(open('./plant-data/plant-train.csv')))[1:];\n",
    "\n",
    "# the attributes will be our inputs - sepal width, sepal length, petal width, petal length\n",
    "attributes = np.array(training_samples)[:,:4].astype(np.float32)\n",
    "\n",
    "# The classes will be our outputs\n",
    "classes = np.array(training_samples)[:,4]\n",
    "\n",
    "print(training_samples)"
   ]
  },
  {
   "cell_type": "markdown",
   "id": "8eabe9a9",
   "metadata": {},
   "source": [
    "2: _Explore and report the data and its distribution among training and testing data. Can we call it imbalanced dataset, explain your answer (yes/no) briefly?_"
   ]
  }
 ],
 "metadata": {
  "kernelspec": {
   "display_name": "Python 3.8.13 ('tensorflow')",
   "language": "python",
   "name": "python3"
  },
  "language_info": {
   "codemirror_mode": {
    "name": "ipython",
    "version": 3
   },
   "file_extension": ".py",
   "mimetype": "text/x-python",
   "name": "python",
   "nbconvert_exporter": "python",
   "pygments_lexer": "ipython3",
   "version": "3.8.13"
  },
  "vscode": {
   "interpreter": {
    "hash": "5c69e896b73d80df03b10aefe902562c227bdab9e6e1527e46fe261fc763f811"
   }
  }
 },
 "nbformat": 4,
 "nbformat_minor": 5
}
